{
  "cells": [
    {
      "cell_type": "markdown",
      "metadata": {
        "id": "ufcXpHu7jxHZ"
      },
      "source": [
        "\n",
        "\n",
        "# implement autoencoder\n",
        "\n"
      ]
    },
    {
      "cell_type": "markdown",
      "metadata": {},
      "source": [
        "*a lil more about autoencoders :* \n",
        "![img](img/autoencoder.png)\n",
        "\n",
        "The autoencoder tries to learn a function $h_{w,b}(x)≈x$. In other words, it is trying to learn an approximation to the identity function, so as to output $y$ that is similar to $x$. The identity function seems a particularly trivial function to be trying to learn; but by placing constraints on the network, such as by limiting the number of hidden units(the latent represntation), we can discover interesting structure about the data. As a concrete example, suppose the inputs $x$\n",
        "are the pixel intensity values from a $10×10$ image ($100$ pixels) so n=100 and there are s2=50 hidden units in layer L2, Note that we also have $y∈ℜ^{100}$, Since there are only 50 hidden units, the network is forced to learn a \"compressed” representation of the input. I.e., given only the vector of hidden unit activations $a(2)∈ℜ^{50}$, it must try to ”reconstruct” the $100$ pixel input $x$\n",
        "\n",
        "If the input were completely random—say, each $x_i$ comes from an IID Gaussian independent of the other features—then this compression task would be very difficult. But if there is structure in the data, for example, if some of the input features are correlated, then this algorithm will be able to discover some of those correlations"
      ]
    },
    {
      "cell_type": "code",
      "execution_count": 53,
      "metadata": {
        "id": "UEEiTA3Zi06F"
      },
      "outputs": [],
      "source": [
        "# imports\n",
        "import torch\n",
        "import torch.nn as nn\n",
        "import torch.optim as optim\n",
        "from torchvision import datasets, transforms\n",
        "from torch.utils.data import DataLoader\n",
        "import matplotlib.pyplot as plt"
      ]
    },
    {
      "cell_type": "markdown",
      "metadata": {},
      "source": []
    },
    {
      "cell_type": "markdown",
      "metadata": {
        "id": "FwGTG0fOj1T3"
      },
      "source": [
        "> first i will implement vanila encoder with vanila NNs"
      ]
    },
    {
      "cell_type": "markdown",
      "metadata": {
        "id": "9E2Dwkhgjmrc"
      },
      "source": [
        "```\n",
        "# code to use later\n",
        "from torchinfo import summary\n",
        "summary(enc, (1,1,28,28), device='cuda')  # Print the model summary\n",
        "```"
      ]
    },
    {
      "cell_type": "code",
      "execution_count": 61,
      "metadata": {
        "id": "z7KWAESdlFRj"
      },
      "outputs": [],
      "source": [
        "# hyper parameters\n",
        "LATENT_SPACE_DIM = 32\n",
        "LEARNING_RATE = 1e-4\n",
        "BATCH_SIZE = 64\n",
        "EPOCHS = 10"
      ]
    },
    {
      "cell_type": "code",
      "execution_count": 62,
      "metadata": {
        "id": "oqDq5jc7mCmw"
      },
      "outputs": [],
      "source": [
        "# MNIST dataset\n",
        "transform = transforms.Compose([\n",
        "    transforms.ToTensor(),\n",
        "])\n",
        "\n",
        "train_dataset = datasets.MNIST(root='./data', train=True, download=True, transform=transform)\n",
        "test_dataset  = datasets.MNIST(root='./data', train=False, download=True, transform=transform)\n",
        "\n",
        "train_loader = DataLoader(train_dataset, batch_size=BATCH_SIZE, shuffle=True)\n",
        "test_loader  = DataLoader(test_dataset, batch_size=BATCH_SIZE, shuffle=False)"
      ]
    },
    {
      "cell_type": "code",
      "execution_count": 63,
      "metadata": {
        "id": "De2DWSQ_juGB"
      },
      "outputs": [],
      "source": [
        "class AE(nn.Module):\n",
        "    def __init__(self, leaky = 0.01):\n",
        "      super(AE, self).__init__()\n",
        "      self.leaky = leaky\n",
        "\n",
        "      # encoder -> compress to latent space\n",
        "      self.encoder = nn.Sequential(\n",
        "          nn.Flatten(),\n",
        "          nn.Linear(28*28, 256),\n",
        "          nn.LeakyReLU(leaky),\n",
        "          nn.Linear(256, LATENT_SPACE_DIM),\n",
        "          nn.ReLU(True)\n",
        "      )\n",
        "\n",
        "      # decoder -> reconstruction\n",
        "      self.decoder = nn.Sequential(\n",
        "          nn.Linear(LATENT_SPACE_DIM, 256),\n",
        "          nn.LeakyReLU(leaky),\n",
        "          nn.Linear(256, 28*28),\n",
        "          nn.Sigmoid(),\n",
        "          )\n",
        "\n",
        "    def forward(self, x):\n",
        "      x = self.encoder(x)\n",
        "      x = self.decoder(x)\n",
        "      # [B, C, H, W]\n",
        "      x = x.view(-1, 1, 28, 28)\n",
        "      return x"
      ]
    },
    {
      "cell_type": "code",
      "execution_count": 64,
      "metadata": {
        "id": "9NM8nvjXle-J"
      },
      "outputs": [],
      "source": [
        "device = torch.device(\"cuda\" if torch.cuda.is_available() else \"cpu\")\n",
        "model = AE().to(device)\n",
        "criterion = nn.MSELoss()\n",
        "optimizer = optim.Adam(model.parameters(), lr=LEARNING_RATE)"
      ]
    },
    {
      "cell_type": "code",
      "execution_count": 65,
      "metadata": {
        "colab": {
          "base_uri": "https://localhost:8080/"
        },
        "id": "WUN9SGmzlyQv",
        "outputId": "0aef0dd0-769e-4d64-9e9d-e71e76e364aa"
      },
      "outputs": [
        {
          "name": "stdout",
          "output_type": "stream",
          "text": [
            "Epoch [1/10], Loss: 0.0702\n",
            "Epoch [2/10], Loss: 0.0365\n",
            "Epoch [3/10], Loss: 0.0266\n",
            "Epoch [4/10], Loss: 0.0210\n",
            "Epoch [5/10], Loss: 0.0178\n",
            "Epoch [6/10], Loss: 0.0157\n",
            "Epoch [7/10], Loss: 0.0143\n",
            "Epoch [8/10], Loss: 0.0134\n",
            "Epoch [9/10], Loss: 0.0127\n",
            "Epoch [10/10], Loss: 0.0121\n"
          ]
        }
      ],
      "source": [
        "for epoch in range(EPOCHS):\n",
        "    model.train()\n",
        "    running_loss = 0.0\n",
        "    for imgs, _ in train_loader:\n",
        "        imgs = imgs.to(device)\n",
        "        outputs = model(imgs)\n",
        "        loss = criterion(outputs, imgs)\n",
        "        optimizer.zero_grad()\n",
        "        loss.backward()\n",
        "        optimizer.step()\n",
        "        running_loss += loss.item() * imgs.size(0)\n",
        "    epoch_loss = running_loss / len(train_loader.dataset)\n",
        "    print(f\"Epoch [{epoch+1}/{EPOCHS}], Loss: {epoch_loss:.4f}\")"
      ]
    },
    {
      "cell_type": "code",
      "execution_count": 66,
      "metadata": {
        "id": "IqZsAf1tm0CU"
      },
      "outputs": [],
      "source": [
        "model.eval()\n",
        "with torch.no_grad():\n",
        "    for imgs, _ in test_loader:\n",
        "        imgs = imgs.to(device)\n",
        "        outputs = model(imgs)\n",
        "        break  # Only visualize first batch\n",
        "\n",
        "imgs = imgs.cpu().numpy()\n",
        "outputs = outputs.cpu().numpy()"
      ]
    },
    {
      "cell_type": "code",
      "execution_count": 68,
      "metadata": {
        "colab": {
          "base_uri": "https://localhost:8080/",
          "height": 302
        },
        "id": "AAllZj0bm2Um",
        "outputId": "f95e8fa5-ec9b-4fe8-9a74-594112beabcc"
      },
      "outputs": [
        {
          "data": {
            "image/png": "[encoded data removed]",
            "text/plain": [
              "<Figure size 2000x400 with 20 Axes>"
            ]
          },
          "metadata": {},
          "output_type": "display_data"
        }
      ],
      "source": [
        "import numpy as np\n",
        "\n",
        "n = 10\n",
        "plt.figure(figsize=(20, 4))\n",
        "\n",
        "# Get the batch size (number of images in imgs)\n",
        "batch_size = imgs.shape[0]\n",
        "\n",
        "# Randomly select n unique indices from the batch\n",
        "random_indices = np.random.choice(batch_size, n, replace=False)\n",
        "\n",
        "for i, idx in enumerate(random_indices):\n",
        "    # Original\n",
        "    ax = plt.subplot(2, n, i + 1)\n",
        "    plt.imshow(imgs[idx].reshape(28, 28), cmap='gray')\n",
        "    plt.axis('off')\n",
        "    # Reconstructed\n",
        "    ax = plt.subplot(2, n, i + 1 + n)\n",
        "    plt.imshow(outputs[idx].reshape(28, 28), cmap='gray')\n",
        "    plt.axis('off')\n",
        "plt.show()\n"
      ]
    },
    {
      "cell_type": "markdown",
      "metadata": {
        "id": "jKXUrK3IqAqG"
      },
      "source": [
        "> now i will implement convulational AE"
      ]
    },
    {
      "cell_type": "code",
      "execution_count": 69,
      "metadata": {
        "id": "026dc7c7"
      },
      "outputs": [],
      "source": [
        "class ConvAE(nn.Module):\n",
        "    def __init__(self):\n",
        "        super(ConvAE, self).__init__()\n",
        "\n",
        "        # Encoder\n",
        "        self.encoder = nn.Sequential(\n",
        "            nn.Conv2d(1, 16, kernel_size=3, stride=2, padding=1), # [16, 14, 14]\n",
        "            nn.ReLU(True),\n",
        "            nn.Conv2d(16, 32, kernel_size=3, stride=2, padding=1), # [32, 7, 7]\n",
        "            nn.ReLU(True),\n",
        "            nn.Conv2d(32, LATENT_SPACE_DIM, kernel_size=7) # [LATENT_SPACE_DIM, 1, 1]\n",
        "        )\n",
        "\n",
        "        # Decoder\n",
        "        self.decoder = nn.Sequential(\n",
        "            nn.ConvTranspose2d(LATENT_SPACE_DIM, 32, kernel_size=7), # [32, 7, 7]\n",
        "            nn.ReLU(True),\n",
        "            nn.ConvTranspose2d(32, 16, kernel_size=3, stride=2, padding=1, output_padding=1), # [16, 14, 14]\n",
        "            nn.ReLU(True),\n",
        "            nn.ConvTranspose2d(16, 1, kernel_size=3, stride=2, padding=1, output_padding=1), # [1, 28, 28]\n",
        "            nn.Sigmoid() # Output pixel values between 0 and 1\n",
        "        )\n",
        "\n",
        "    def forward(self, x):\n",
        "        x = self.encoder(x)\n",
        "        x = self.decoder(x)\n",
        "        return x"
      ]
    },
    {
      "cell_type": "code",
      "execution_count": 71,
      "metadata": {
        "id": "adc4380e"
      },
      "outputs": [],
      "source": [
        "device = torch.device(\"cuda\" if torch.cuda.is_available() else \"cpu\")\n",
        "model = ConvAE().to(device)\n",
        "criterion = nn.MSELoss()\n",
        "optimizer = optim.Adam(model.parameters(), lr=LEARNING_RATE)"
      ]
    },
    {
      "cell_type": "code",
      "execution_count": 72,
      "metadata": {
        "colab": {
          "base_uri": "https://localhost:8080/"
        },
        "id": "73896f61",
        "outputId": "7d91b3d9-0f2d-4754-8439-235ec413c9a2"
      },
      "outputs": [
        {
          "name": "stdout",
          "output_type": "stream",
          "text": [
            "Epoch [1/10], Loss: 0.0843\n",
            "Epoch [2/10], Loss: 0.0609\n",
            "Epoch [3/10], Loss: 0.0293\n",
            "Epoch [4/10], Loss: 0.0190\n",
            "Epoch [5/10], Loss: 0.0150\n",
            "Epoch [6/10], Loss: 0.0125\n",
            "Epoch [7/10], Loss: 0.0110\n",
            "Epoch [8/10], Loss: 0.0099\n",
            "Epoch [9/10], Loss: 0.0091\n",
            "Epoch [10/10], Loss: 0.0085\n"
          ]
        }
      ],
      "source": [
        "for epoch in range(EPOCHS):\n",
        "    model.train()\n",
        "    running_loss = 0.0\n",
        "    for imgs, _ in train_loader:\n",
        "        imgs = imgs.to(device)\n",
        "        outputs = model(imgs)\n",
        "        loss = criterion(outputs, imgs)\n",
        "        optimizer.zero_grad()\n",
        "        loss.backward()\n",
        "        optimizer.step()\n",
        "        running_loss += loss.item() * imgs.size(0)\n",
        "    epoch_loss = running_loss / len(train_loader.dataset)\n",
        "    print(f\"Epoch [{epoch+1}/{EPOCHS}], Loss: {epoch_loss:.4f}\")"
      ]
    },
    {
      "cell_type": "code",
      "execution_count": 73,
      "metadata": {
        "id": "bf9dbc89"
      },
      "outputs": [],
      "source": [
        "model.eval()\n",
        "with torch.no_grad():\n",
        "    for imgs, _ in test_loader:\n",
        "        imgs = imgs.to(device)\n",
        "        outputs = model(imgs)\n",
        "        break  # Only visualize first batch\n",
        "\n",
        "imgs = imgs.cpu().numpy()\n",
        "outputs = outputs.cpu().numpy()"
      ]
    },
    {
      "cell_type": "code",
      "execution_count": 74,
      "metadata": {
        "colab": {
          "base_uri": "https://localhost:8080/",
          "height": 302
        },
        "id": "e9cc9744",
        "outputId": "f0f166ba-ccc3-46a4-fcd4-2c872036a50e"
      },
      "outputs": [
        {
          "data": {
            "image/png": "[encoded data removed]",
            "text/plain": [
              "<Figure size 2000x400 with 20 Axes>"
            ]
          },
          "metadata": {},
          "output_type": "display_data"
        }
      ],
      "source": [
        "import numpy as np\n",
        "\n",
        "n = 10\n",
        "plt.figure(figsize=(20, 4))\n",
        "\n",
        "# Get the batch size (number of images in imgs)\n",
        "batch_size = imgs.shape[0]\n",
        "\n",
        "# Randomly select n unique indices from the batch\n",
        "random_indices = np.random.choice(batch_size, n, replace=False)\n",
        "\n",
        "for i, idx in enumerate(random_indices):\n",
        "    # Original\n",
        "    ax = plt.subplot(2, n, i + 1)\n",
        "    plt.imshow(imgs[idx].reshape(28, 28), cmap='gray')\n",
        "    plt.axis('off')\n",
        "    # Reconstructed\n",
        "    ax = plt.subplot(2, n, i + 1 + n)\n",
        "    plt.imshow(outputs[idx].reshape(28, 28), cmap='gray')\n",
        "    plt.axis('off')\n",
        "plt.show()"
      ]
    }
  ],
  "metadata": {
    "accelerator": "GPU",
    "colab": {
      "gpuType": "T4",
      "provenance": []
    },
    "kernelspec": {
      "display_name": "Python 3",
      "name": "python3"
    },
    "language_info": {
      "name": "python",
      "version": "3.12.7"
    }
  },
  "nbformat": 4,
  "nbformat_minor": 0
}
